{
  "cells": [
    {
      "cell_type": "markdown",
      "metadata": {
        "id": "0tvAKGat01Sd"
      },
      "source": [
        "# **Penting**\n",
        "- Pastikan Anda melakukan Run All sebelum mengirimkan submission untuk memastikan seluruh cell berjalan dengan baik.\n",
        "- Hapus simbol pagar (#) jika Anda menerapkan kriteria tambahan\n",
        "- Biarkan simbol pagar (#) jika Anda tidak menerapkan kriteria tambahan"
      ]
    },
    {
      "cell_type": "markdown",
      "metadata": {
        "id": "fKADPWcFKlj3"
      },
      "source": [
        "# **1. Import Library**\n",
        "Pada tahap ini, Anda perlu mengimpor beberapa pustaka (library) Python yang dibutuhkan untuk analisis data dan pembangunan model machine learning."
      ]
    },
    {
      "cell_type": "code",
      "execution_count": 47,
      "metadata": {
        "id": "BlmvjLY9M4Yj"
      },
      "outputs": [],
      "source": [
        "import pandas as pd\n",
        "import matplotlib.pyplot as plt\n",
        "import seaborn as sns\n",
        "import joblib\n",
        "from sklearn.preprocessing import MinMaxScaler, StandardScaler\n",
        "from sklearn.cluster import KMeans\n",
        "from sklearn.metrics import silhouette_score\n",
        "from yellowbrick.cluster import KElbowVisualizer\n",
        "from sklearn.decomposition import PCA\n",
        "from sklearn.ensemble import RandomForestClassifier\n",
        "from sklearn.tree import DecisionTreeClassifier\n",
        "from sklearn.metrics import classification_report, accuracy_score, confusion_matrix\n",
        "from sklearn.model_selection import train_test_split, GridSearchCV\n"
      ]
    },
    {
      "cell_type": "markdown",
      "metadata": {
        "id": "f3YIEnAFKrKL"
      },
      "source": [
        "# **2. Memuat Dataset dari Hasil Clustering**\n",
        "Memuat dataset hasil clustering dari file CSV ke dalam variabel DataFrame."
      ]
    },
    {
      "cell_type": "code",
      "execution_count": 48,
      "metadata": {
        "id": "GHCGNTyrM5fS"
      },
      "outputs": [],
      "source": [
        "df = pd.read_csv('data_clustering_inverse.csv')\n",
        "\n",
        "# Gunakan dataset hasil clustering yang memiliki fitur Target\n",
        "# Silakan gunakan dataset data_clustering jika tidak menerapkan Interpretasi Hasil Clustering [Advanced]\n",
        "# Silakan gunakan dataset data_clustering_inverse jika menerapkan Interpretasi Hasil Clustering [Advanced]"
      ]
    },
    {
      "cell_type": "code",
      "execution_count": 49,
      "metadata": {
        "id": "bCsep0NZ0LUf"
      },
      "outputs": [
        {
          "data": {
            "text/html": [
              "<div>\n",
              "<style scoped>\n",
              "    .dataframe tbody tr th:only-of-type {\n",
              "        vertical-align: middle;\n",
              "    }\n",
              "\n",
              "    .dataframe tbody tr th {\n",
              "        vertical-align: top;\n",
              "    }\n",
              "\n",
              "    .dataframe thead th {\n",
              "        text-align: right;\n",
              "    }\n",
              "</style>\n",
              "<table border=\"1\" class=\"dataframe\">\n",
              "  <thead>\n",
              "    <tr style=\"text-align: right;\">\n",
              "      <th></th>\n",
              "      <th>TransactionID</th>\n",
              "      <th>AccountID</th>\n",
              "      <th>TransactionDate</th>\n",
              "      <th>TransactionType</th>\n",
              "      <th>Location</th>\n",
              "      <th>DeviceID</th>\n",
              "      <th>IP Address</th>\n",
              "      <th>MerchantID</th>\n",
              "      <th>Channel</th>\n",
              "      <th>CustomerOccupation</th>\n",
              "      <th>PreviousTransactionDate</th>\n",
              "      <th>TransactionAmount</th>\n",
              "      <th>CustomerAge</th>\n",
              "      <th>TransactionDuration</th>\n",
              "      <th>LoginAttempts</th>\n",
              "      <th>AccountBalance</th>\n",
              "      <th>Target</th>\n",
              "    </tr>\n",
              "  </thead>\n",
              "  <tbody>\n",
              "    <tr>\n",
              "      <th>0</th>\n",
              "      <td>TX000001</td>\n",
              "      <td>AC00128</td>\n",
              "      <td>2023-04-11 16:29:14</td>\n",
              "      <td>Debit</td>\n",
              "      <td>San Diego</td>\n",
              "      <td>D000380</td>\n",
              "      <td>162.198.218.92</td>\n",
              "      <td>M015</td>\n",
              "      <td>ATM</td>\n",
              "      <td>Doctor</td>\n",
              "      <td>2024-11-04 08:08:08</td>\n",
              "      <td>14.09</td>\n",
              "      <td>70.0</td>\n",
              "      <td>81.0</td>\n",
              "      <td>1.0</td>\n",
              "      <td>5112.21</td>\n",
              "      <td>2.0</td>\n",
              "    </tr>\n",
              "    <tr>\n",
              "      <th>1</th>\n",
              "      <td>TX000002</td>\n",
              "      <td>AC00455</td>\n",
              "      <td>2023-06-27 16:44:19</td>\n",
              "      <td>Debit</td>\n",
              "      <td>Houston</td>\n",
              "      <td>D000051</td>\n",
              "      <td>13.149.61.4</td>\n",
              "      <td>M052</td>\n",
              "      <td>ATM</td>\n",
              "      <td>Doctor</td>\n",
              "      <td>2024-11-04 08:09:35</td>\n",
              "      <td>376.24</td>\n",
              "      <td>68.0</td>\n",
              "      <td>141.0</td>\n",
              "      <td>1.0</td>\n",
              "      <td>13758.91</td>\n",
              "      <td>3.0</td>\n",
              "    </tr>\n",
              "    <tr>\n",
              "      <th>2</th>\n",
              "      <td>TX000003</td>\n",
              "      <td>AC00019</td>\n",
              "      <td>2023-07-10 18:16:08</td>\n",
              "      <td>Debit</td>\n",
              "      <td>Mesa</td>\n",
              "      <td>D000235</td>\n",
              "      <td>215.97.143.157</td>\n",
              "      <td>M009</td>\n",
              "      <td>Online</td>\n",
              "      <td>Student</td>\n",
              "      <td>2024-11-04 08:07:04</td>\n",
              "      <td>126.29</td>\n",
              "      <td>19.0</td>\n",
              "      <td>56.0</td>\n",
              "      <td>1.0</td>\n",
              "      <td>1122.35</td>\n",
              "      <td>1.0</td>\n",
              "    </tr>\n",
              "    <tr>\n",
              "      <th>3</th>\n",
              "      <td>TX000004</td>\n",
              "      <td>AC00070</td>\n",
              "      <td>2023-05-05 16:32:11</td>\n",
              "      <td>Debit</td>\n",
              "      <td>Raleigh</td>\n",
              "      <td>D000187</td>\n",
              "      <td>200.13.225.150</td>\n",
              "      <td>M002</td>\n",
              "      <td>Online</td>\n",
              "      <td>Student</td>\n",
              "      <td>2024-11-04 08:09:06</td>\n",
              "      <td>184.50</td>\n",
              "      <td>26.0</td>\n",
              "      <td>25.0</td>\n",
              "      <td>1.0</td>\n",
              "      <td>8569.06</td>\n",
              "      <td>0.0</td>\n",
              "    </tr>\n",
              "    <tr>\n",
              "      <th>4</th>\n",
              "      <td>TX000005</td>\n",
              "      <td>AC00411</td>\n",
              "      <td>2023-10-16 17:51:24</td>\n",
              "      <td>Credit</td>\n",
              "      <td>Atlanta</td>\n",
              "      <td>D000308</td>\n",
              "      <td>65.164.3.100</td>\n",
              "      <td>M091</td>\n",
              "      <td>Online</td>\n",
              "      <td>Student</td>\n",
              "      <td>2024-11-04 08:06:39</td>\n",
              "      <td>92.15</td>\n",
              "      <td>18.0</td>\n",
              "      <td>172.0</td>\n",
              "      <td>1.0</td>\n",
              "      <td>781.68</td>\n",
              "      <td>1.0</td>\n",
              "    </tr>\n",
              "  </tbody>\n",
              "</table>\n",
              "</div>"
            ],
            "text/plain": [
              "  TransactionID AccountID      TransactionDate TransactionType   Location  \\\n",
              "0      TX000001   AC00128  2023-04-11 16:29:14           Debit  San Diego   \n",
              "1      TX000002   AC00455  2023-06-27 16:44:19           Debit    Houston   \n",
              "2      TX000003   AC00019  2023-07-10 18:16:08           Debit       Mesa   \n",
              "3      TX000004   AC00070  2023-05-05 16:32:11           Debit    Raleigh   \n",
              "4      TX000005   AC00411  2023-10-16 17:51:24          Credit    Atlanta   \n",
              "\n",
              "  DeviceID      IP Address MerchantID Channel CustomerOccupation  \\\n",
              "0  D000380  162.198.218.92       M015     ATM             Doctor   \n",
              "1  D000051     13.149.61.4       M052     ATM             Doctor   \n",
              "2  D000235  215.97.143.157       M009  Online            Student   \n",
              "3  D000187  200.13.225.150       M002  Online            Student   \n",
              "4  D000308    65.164.3.100       M091  Online            Student   \n",
              "\n",
              "  PreviousTransactionDate  TransactionAmount  CustomerAge  \\\n",
              "0     2024-11-04 08:08:08              14.09         70.0   \n",
              "1     2024-11-04 08:09:35             376.24         68.0   \n",
              "2     2024-11-04 08:07:04             126.29         19.0   \n",
              "3     2024-11-04 08:09:06             184.50         26.0   \n",
              "4     2024-11-04 08:06:39              92.15         18.0   \n",
              "\n",
              "   TransactionDuration  LoginAttempts  AccountBalance  Target  \n",
              "0                 81.0            1.0         5112.21     2.0  \n",
              "1                141.0            1.0        13758.91     3.0  \n",
              "2                 56.0            1.0         1122.35     1.0  \n",
              "3                 25.0            1.0         8569.06     0.0  \n",
              "4                172.0            1.0          781.68     1.0  "
            ]
          },
          "execution_count": 49,
          "metadata": {},
          "output_type": "execute_result"
        }
      ],
      "source": [
        "df.head()"
      ]
    },
    {
      "cell_type": "markdown",
      "metadata": {
        "id": "KkPem5eWL2UP"
      },
      "source": [
        "# **3. Data Splitting**\n",
        "Tahap Data Splitting bertujuan untuk memisahkan dataset menjadi dua bagian: data latih (training set) dan data uji (test set)."
      ]
    },
    {
      "cell_type": "code",
      "execution_count": 50,
      "metadata": {
        "id": "OubAW-7ONKVj"
      },
      "outputs": [
        {
          "name": "stdout",
          "output_type": "stream",
          "text": [
            "Jumlah NaN di Target: 117\n",
            "Ukuran data latih: (1936, 16)\n",
            "Ukuran data uji:   (484, 16)\n"
          ]
        }
      ],
      "source": [
        "print(\"Jumlah NaN di Target:\", df['Target'].isna().sum())\n",
        "\n",
        "df_clean = df.dropna(subset=['Target'])\n",
        "\n",
        "X = df_clean.drop(columns=['Target'])\n",
        "y = df_clean['Target']\n",
        "\n",
        "X_train, X_test, y_train, y_test = train_test_split(\n",
        "    X, y,\n",
        "    test_size=0.2,\n",
        "    random_state=42,\n",
        "    stratify=y\n",
        ")\n",
        "\n",
        "print(\"Ukuran data latih:\", X_train.shape)\n",
        "print(\"Ukuran data uji:  \", X_test.shape)"
      ]
    },
    {
      "cell_type": "code",
      "execution_count": 51,
      "metadata": {},
      "outputs": [
        {
          "name": "stdout",
          "output_type": "stream",
          "text": [
            "Distribusi label di y_train:\n",
            " Target\n",
            "1.0    0.420455\n",
            "2.0    0.252583\n",
            "0.0    0.226756\n",
            "3.0    0.100207\n",
            "Name: proportion, dtype: float64\n",
            "Distribusi label di y_test:\n",
            " Target\n",
            "1.0    0.421488\n",
            "2.0    0.252066\n",
            "0.0    0.227273\n",
            "3.0    0.099174\n",
            "Name: proportion, dtype: float64\n"
          ]
        }
      ],
      "source": [
        "print(\"Distribusi label di y_train:\\n\", y_train.value_counts(normalize=True))\n",
        "print(\"Distribusi label di y_test:\\n\", y_test.value_counts(normalize=True))"
      ]
    },
    {
      "cell_type": "markdown",
      "metadata": {
        "id": "IVPbB03CMhTT"
      },
      "source": [
        "# **4. Membangun Model Klasifikasi**\n",
        "Setelah memilih algoritma klasifikasi yang sesuai, langkah selanjutnya adalah melatih model menggunakan data latih.\n",
        "\n",
        "Berikut adalah rekomendasi tahapannya.\n",
        "1. Menggunakan algoritma klasifikasi yaitu Decision Tree.\n",
        "2. Latih model menggunakan data yang sudah dipisah."
      ]
    },
    {
      "cell_type": "code",
      "execution_count": 52,
      "metadata": {
        "id": "4JYxBe87NLDk"
      },
      "outputs": [
        {
          "name": "stdout",
          "output_type": "stream",
          "text": [
            "Akurasi: 0.9979338842975206\n",
            "\n",
            "Classification Report:\n",
            "               precision    recall  f1-score   support\n",
            "\n",
            "         0.0       1.00      0.99      1.00       109\n",
            "         1.0       1.00      1.00      1.00       205\n",
            "         2.0       1.00      1.00      1.00       132\n",
            "         3.0       0.97      1.00      0.99        38\n",
            "\n",
            "    accuracy                           1.00       484\n",
            "   macro avg       0.99      1.00      1.00       484\n",
            "weighted avg       1.00      1.00      1.00       484\n",
            "\n",
            "\n",
            "Confusion Matrix:\n",
            " [[108   0   0   1]\n",
            " [  0 205   0   0]\n",
            " [  0   0 132   0]\n",
            " [  0   0   0  38]]\n"
          ]
        }
      ],
      "source": [
        "# Buatlah model klasifikasi menggunakan Decision Tree\n",
        "\n",
        "df_clean = df.dropna(subset=['Target'])\n",
        "\n",
        "X = df_clean.drop(columns=['Target'])\n",
        "y = df_clean['Target']\n",
        "\n",
        "X_encoded = pd.get_dummies(X, drop_first=True)\n",
        "\n",
        "X_train, X_test, y_train, y_test = train_test_split(\n",
        "    X_encoded, y, test_size=0.2, random_state=42\n",
        ")\n",
        "\n",
        "dt_model = DecisionTreeClassifier(random_state=42)\n",
        "dt_model.fit(X_train, y_train)\n",
        "\n",
        "y_pred = dt_model.predict(X_test)\n",
        "\n",
        "print(\"Akurasi:\", accuracy_score(y_test, y_pred))\n",
        "print(\"\\nClassification Report:\\n\", classification_report(y_test, y_pred))\n",
        "print(\"\\nConfusion Matrix:\\n\", confusion_matrix(y_test, y_pred))"
      ]
    },
    {
      "cell_type": "code",
      "execution_count": 53,
      "metadata": {
        "id": "P_AakAxghYv-"
      },
      "outputs": [
        {
          "data": {
            "text/plain": [
              "['decision_tree_model.h5']"
            ]
          },
          "execution_count": 53,
          "metadata": {},
          "output_type": "execute_result"
        }
      ],
      "source": [
        "# Menyimpan Model\n",
        "# import joblib\n",
        "# joblib.dump(model, 'decision_tree_model.h5')\n",
        "\n",
        "joblib.dump(dt_model, 'decision_tree_model.h5')\n"
      ]
    },
    {
      "cell_type": "markdown",
      "metadata": {
        "id": "epO4HhrzBXMg"
      },
      "source": [
        "# **5. Memenuhi Kriteria Skilled dan Advanced dalam Membangun Model Klasifikasi**\n",
        "\n"
      ]
    },
    {
      "cell_type": "markdown",
      "metadata": {
        "id": "DNOEZk24uiXu"
      },
      "source": [
        "**Biarkan kosong jika tidak menerapkan kriteria skilled atau advanced**"
      ]
    },
    {
      "cell_type": "code",
      "execution_count": 54,
      "metadata": {
        "id": "kB_8LIWMATl6"
      },
      "outputs": [
        {
          "name": "stdout",
          "output_type": "stream",
          "text": [
            "Akurasi: 0.9359504132231405\n",
            "\n",
            "Classification Report:\n",
            "               precision    recall  f1-score   support\n",
            "\n",
            "         0.0       0.78      0.99      0.87       109\n",
            "         1.0       1.00      1.00      1.00       205\n",
            "         2.0       0.99      1.00      1.00       132\n",
            "         3.0       1.00      0.21      0.35        38\n",
            "\n",
            "    accuracy                           0.94       484\n",
            "   macro avg       0.94      0.80      0.80       484\n",
            "weighted avg       0.95      0.94      0.92       484\n",
            "\n",
            "Confusion Matrix:\n",
            " [[108   0   1   0]\n",
            " [  0 205   0   0]\n",
            " [  0   0 132   0]\n",
            " [ 30   0   0   8]]\n"
          ]
        }
      ],
      "source": [
        "# Melatih model menggunakan algoritma klasifikasi selain Decision Tree.\n",
        "\n",
        "model = RandomForestClassifier(random_state=42)\n",
        "model.fit(X_train, y_train)\n",
        "\n",
        "y_pred = model.predict(X_test)\n",
        "\n",
        "print(\"Akurasi:\", accuracy_score(y_test, y_pred))\n",
        "print(\"\\nClassification Report:\\n\", classification_report(y_test, y_pred))\n",
        "print(\"Confusion Matrix:\\n\", confusion_matrix(y_test, y_pred))\n"
      ]
    },
    {
      "cell_type": "code",
      "execution_count": 55,
      "metadata": {
        "id": "bRlKm5BVAT91"
      },
      "outputs": [
        {
          "name": "stdout",
          "output_type": "stream",
          "text": [
            "Akurasi Decision Tree: 0.9979338842975206\n",
            "\n",
            "Classification Report:\n",
            "               precision    recall  f1-score   support\n",
            "\n",
            "         0.0       1.00      0.99      1.00       109\n",
            "         1.0       1.00      1.00      1.00       205\n",
            "         2.0       1.00      1.00      1.00       132\n",
            "         3.0       0.97      1.00      0.99        38\n",
            "\n",
            "    accuracy                           1.00       484\n",
            "   macro avg       0.99      1.00      1.00       484\n",
            "weighted avg       1.00      1.00      1.00       484\n",
            "\n",
            "\n",
            "Confusion Matrix:\n",
            " [[108   0   0   1]\n",
            " [  0 205   0   0]\n",
            " [  0   0 132   0]\n",
            " [  0   0   0  38]]\n",
            "Akurasi Random Forest: 0.9979338842975206\n",
            "\n",
            "Classification Report:\n",
            "               precision    recall  f1-score   support\n",
            "\n",
            "         0.0       1.00      0.99      1.00       109\n",
            "         1.0       1.00      1.00      1.00       205\n",
            "         2.0       1.00      1.00      1.00       132\n",
            "         3.0       0.97      1.00      0.99        38\n",
            "\n",
            "    accuracy                           1.00       484\n",
            "   macro avg       0.99      1.00      1.00       484\n",
            "weighted avg       1.00      1.00      1.00       484\n",
            "\n",
            "Confusion Matrix:\n",
            " [[108   0   0   1]\n",
            " [  0 205   0   0]\n",
            " [  0   0 132   0]\n",
            " [  0   0   0  38]]\n"
          ]
        }
      ],
      "source": [
        "# Menampilkan hasil evaluasi akurasi, presisi, recall, dan F1-Score pada seluruh algoritma yang sudah dibuat.\n",
        "\n",
        "y_pred = dt_model.predict(X_test)\n",
        "print(\"Akurasi Decision Tree:\", accuracy_score(y_test, y_pred))\n",
        "print(\"\\nClassification Report:\\n\", classification_report(y_test, y_pred))\n",
        "print(\"\\nConfusion Matrix:\\n\", confusion_matrix(y_test, y_pred))\n",
        "\n",
        "print(\"Akurasi Random Forest:\", accuracy_score(y_test, y_pred))\n",
        "print(\"\\nClassification Report:\\n\", classification_report(y_test, y_pred))\n",
        "print(\"Confusion Matrix:\\n\", confusion_matrix(y_test, y_pred))\n"
      ]
    },
    {
      "cell_type": "code",
      "execution_count": 56,
      "metadata": {
        "id": "dUPItkbXBNkO"
      },
      "outputs": [
        {
          "data": {
            "text/plain": [
              "['explore_random_forest_classification.h5']"
            ]
          },
          "execution_count": 56,
          "metadata": {},
          "output_type": "execute_result"
        }
      ],
      "source": [
        "# Menyimpan Model Selain Decision Tree\n",
        "# Model ini bisa lebih dari satu\n",
        "# import joblib\n",
        "# joblib.dump(___, 'explore_<Nama Algoritma>_classification.h5')\n",
        "\n",
        "joblib.dump(model, 'explore_random_forest_classification.h5')"
      ]
    },
    {
      "cell_type": "markdown",
      "metadata": {
        "id": "u23H2guj-h9h"
      },
      "source": [
        "Hyperparameter Tuning Model\n",
        "\n",
        "Pilih salah satu algoritma yang ingin Anda tuning"
      ]
    },
    {
      "cell_type": "code",
      "execution_count": 57,
      "metadata": {
        "id": "dFCTxJJq-m-l"
      },
      "outputs": [
        {
          "name": "stdout",
          "output_type": "stream",
          "text": [
            "Best parameters: {'max_depth': None, 'min_samples_leaf': 1, 'min_samples_split': 2, 'n_estimators': 100}\n"
          ]
        }
      ],
      "source": [
        "# Lakukan Hyperparameter Tuning dan Latih ulang.\n",
        "\n",
        "rf = RandomForestClassifier(random_state=42)\n",
        "\n",
        "param_grid = {\n",
        "    'n_estimators': [100, 200, 300],\n",
        "    'max_depth': [None, 10, 20, 30],\n",
        "    'min_samples_split': [2, 5, 10],\n",
        "    'min_samples_leaf': [1, 2, 4]\n",
        "}\n",
        "\n",
        "grid_search = GridSearchCV(estimator=rf,\n",
        "                           param_grid=param_grid,\n",
        "                           cv=5,\n",
        "                           n_jobs=-1,          \n",
        "                           scoring='accuracy')\n",
        "\n",
        "grid_search.fit(X_train, y_train)\n",
        "\n",
        "print(\"Best parameters:\", grid_search.best_params_)\n",
        "\n",
        "best_rf = RandomForestClassifier(**grid_search.best_params_, random_state=42)\n",
        "best_rf.fit(X_train, y_train)\n",
        "\n",
        "y_pred = best_rf.predict(X_test)\n"
      ]
    },
    {
      "cell_type": "code",
      "execution_count": 58,
      "metadata": {
        "id": "1g6EPSSWxjcQ"
      },
      "outputs": [
        {
          "name": "stdout",
          "output_type": "stream",
          "text": [
            "Akurasi setelah tuning: 0.9359504132231405\n",
            "              precision    recall  f1-score   support\n",
            "\n",
            "         0.0       0.78      0.99      0.87       109\n",
            "         1.0       1.00      1.00      1.00       205\n",
            "         2.0       0.99      1.00      1.00       132\n",
            "         3.0       1.00      0.21      0.35        38\n",
            "\n",
            "    accuracy                           0.94       484\n",
            "   macro avg       0.94      0.80      0.80       484\n",
            "weighted avg       0.95      0.94      0.92       484\n",
            "\n"
          ]
        }
      ],
      "source": [
        "print(\"Akurasi setelah tuning:\", accuracy_score(y_test, y_pred))\n",
        "print(classification_report(y_test, y_pred))"
      ]
    },
    {
      "cell_type": "code",
      "execution_count": 59,
      "metadata": {
        "id": "7UJNcVP--n7S"
      },
      "outputs": [
        {
          "data": {
            "text/plain": [
              "['tuning_classification.h5']"
            ]
          },
          "execution_count": 59,
          "metadata": {},
          "output_type": "execute_result"
        }
      ],
      "source": [
        "# Menyimpan Model hasil tuning\n",
        "# import joblib\n",
        "# joblib.dump(model_dt, 'tuning_classification.h5')\n",
        "\n",
        "joblib.dump(best_rf, 'tuning_classification.h5')"
      ]
    }
  ],
  "metadata": {
    "colab": {
      "provenance": []
    },
    "kernelspec": {
      "display_name": "Python 3",
      "name": "python3"
    },
    "language_info": {
      "codemirror_mode": {
        "name": "ipython",
        "version": 3
      },
      "file_extension": ".py",
      "mimetype": "text/x-python",
      "name": "python",
      "nbconvert_exporter": "python",
      "pygments_lexer": "ipython3",
      "version": "3.12.0"
    }
  },
  "nbformat": 4,
  "nbformat_minor": 0
}
